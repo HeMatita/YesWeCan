{
 "cells": [
  {
   "cell_type": "markdown",
   "metadata": {},
   "source": [
    "___\n",
    "# Ciência dos Dados - PROJETO 1"
   ]
  },
  {
   "cell_type": "markdown",
   "metadata": {},
   "source": [
    "## Matheus Augusto Soares\n",
    "___"
   ]
  },
  {
   "cell_type": "markdown",
   "metadata": {},
   "source": [
    "## Como é a taxa de analfabetismo e a escolaridade de acordo com a etnia de pessoas consideradas adultas?"
   ]
  },
  {
   "cell_type": "markdown",
   "metadata": {},
   "source": [
    "___\n",
    "## Introdução\n",
    "As taxas de analfabestismo deve ser analisada \n"
   ]
  },
  {
   "cell_type": "markdown",
   "metadata": {},
   "source": [
    "___\n",
    "## Filtros da base de dados"
   ]
  },
  {
   "cell_type": "code",
   "execution_count": 1,
   "metadata": {
    "collapsed": true
   },
   "outputs": [],
   "source": [
    "%matplotlib inline\n",
    "import pandas as pd\n",
    "import matplotlib.pyplot as plt\n",
    "import numpy as np\n",
    "import os"
   ]
  },
  {
   "cell_type": "code",
   "execution_count": 2,
   "metadata": {},
   "outputs": [
    {
     "name": "stdout",
     "output_type": "stream",
     "text": [
      "Esperamos trabalhar no diretório\n",
      "C:\\Users\\mathe\\Desktop\\Ano Da DP\\Ciencia dos Dados\\PROJETO 1\n"
     ]
    }
   ],
   "source": [
    "print('Esperamos trabalhar no diretório')\n",
    "print(os.getcwd())"
   ]
  },
  {
   "cell_type": "code",
   "execution_count": 4,
   "metadata": {},
   "outputs": [
    {
     "name": "stderr",
     "output_type": "stream",
     "text": [
      "C:\\Users\\mathe\\Anaconda3\\lib\\site-packages\\pandas\\core\\generic.py:2999: SettingWithCopyWarning: \n",
      "A value is trying to be set on a copy of a slice from a DataFrame.\n",
      "Try using .loc[row_indexer,col_indexer] = value instead\n",
      "\n",
      "See the caveats in the documentation: http://pandas.pydata.org/pandas-docs/stable/indexing.html#indexing-view-versus-copy\n",
      "  self[name] = value\n"
     ]
    }
   ],
   "source": [
    "dados = pd.read_csv('PES2015.csv',sep=',')\n",
    "dados.head()\n",
    "\n",
    "#UF=Estado \n",
    "#V0601=Analfabetismo\n",
    "#V6003=Curso que frequenta\n",
    "df1=dados.loc[:,['V0404','V0601',\"V6003\",'V8005']]\n",
    "#df1=df1.dropna(subset=['V0404','V0601','V6003'])\n",
    "\n",
    "\n",
    "#Limpando o DF\n",
    "df2=df1.dropna(how='any')\n",
    "\n",
    "df2.V0404= df2.V0404.astype('category')\n",
    "df2.V0601=df2.V0601.astype('category')\n",
    "df2.V6003=df2.V6003.astype('category')\n",
    "\n",
    "df2.V0404.cat.categories = ('Branca','Preta','Amarela','Parda','Indígena')\n",
    "df2.V0601.cat.categories = ('Sim','Não')\n",
    "df2.V6003.cat.categories = ('Regular do Ensino Fundamental','Regular Ensino Médio','Educação de jovens e adultos ou supletivo do ensino fundamental','Educação de jovens e adultos ou supletivo do ensino médio','Superior de graduação','Alfabetização de jovens e adultos','Creche','Classe de alfabetização - CA ','Maternal, jardim de infância etc.','Pré-vestibular','Mestrado ou doutorado')"
   ]
  },
  {
   "cell_type": "code",
   "execution_count": 20,
   "metadata": {},
   "outputs": [],
   "source": [
    "booleans=[]\n",
    "\n",
    "for age in df2.V8005:\n",
    "    if age >= 21 and age <= 45:\n",
    "        booleans.append(True)\n",
    "    else:\n",
    "        booleans.append(False)"
   ]
  },
  {
   "cell_type": "code",
   "execution_count": 21,
   "metadata": {},
   "outputs": [
    {
     "data": {
      "text/html": [
       "<div>\n",
       "<style>\n",
       "    .dataframe thead tr:only-child th {\n",
       "        text-align: right;\n",
       "    }\n",
       "\n",
       "    .dataframe thead th {\n",
       "        text-align: left;\n",
       "    }\n",
       "\n",
       "    .dataframe tbody tr th {\n",
       "        vertical-align: top;\n",
       "    }\n",
       "</style>\n",
       "<table border=\"1\" class=\"dataframe\">\n",
       "  <thead>\n",
       "    <tr style=\"text-align: right;\">\n",
       "      <th></th>\n",
       "      <th>V0404</th>\n",
       "      <th>V0601</th>\n",
       "      <th>V6003</th>\n",
       "      <th>V8005</th>\n",
       "    </tr>\n",
       "  </thead>\n",
       "  <tbody>\n",
       "    <tr>\n",
       "      <th>2</th>\n",
       "      <td>Indígena</td>\n",
       "      <td>Sim</td>\n",
       "      <td>Superior de graduação</td>\n",
       "      <td>35</td>\n",
       "    </tr>\n",
       "    <tr>\n",
       "      <th>33</th>\n",
       "      <td>Indígena</td>\n",
       "      <td>Sim</td>\n",
       "      <td>Superior de graduação</td>\n",
       "      <td>22</td>\n",
       "    </tr>\n",
       "    <tr>\n",
       "      <th>38</th>\n",
       "      <td>Indígena</td>\n",
       "      <td>Sim</td>\n",
       "      <td>Superior de graduação</td>\n",
       "      <td>24</td>\n",
       "    </tr>\n",
       "    <tr>\n",
       "      <th>54</th>\n",
       "      <td>Amarela</td>\n",
       "      <td>Sim</td>\n",
       "      <td>Superior de graduação</td>\n",
       "      <td>35</td>\n",
       "    </tr>\n",
       "    <tr>\n",
       "      <th>57</th>\n",
       "      <td>Preta</td>\n",
       "      <td>Sim</td>\n",
       "      <td>Superior de graduação</td>\n",
       "      <td>22</td>\n",
       "    </tr>\n",
       "  </tbody>\n",
       "</table>\n",
       "</div>"
      ],
      "text/plain": [
       "       V0404 V0601                  V6003  V8005\n",
       "2   Indígena   Sim  Superior de graduação     35\n",
       "33  Indígena   Sim  Superior de graduação     22\n",
       "38  Indígena   Sim  Superior de graduação     24\n",
       "54   Amarela   Sim  Superior de graduação     35\n",
       "57     Preta   Sim  Superior de graduação     22"
      ]
     },
     "execution_count": 21,
     "metadata": {},
     "output_type": "execute_result"
    }
   ],
   "source": [
    "adult=pd.Series(booleans)\n",
    "df3=df2[booleans]\n",
    "df3.head()"
   ]
  },
  {
   "cell_type": "code",
   "execution_count": 22,
   "metadata": {},
   "outputs": [
    {
     "data": {
      "text/html": [
       "<div>\n",
       "<style>\n",
       "    .dataframe thead tr:only-child th {\n",
       "        text-align: right;\n",
       "    }\n",
       "\n",
       "    .dataframe thead th {\n",
       "        text-align: left;\n",
       "    }\n",
       "\n",
       "    .dataframe tbody tr th {\n",
       "        vertical-align: top;\n",
       "    }\n",
       "</style>\n",
       "<table border=\"1\" class=\"dataframe\">\n",
       "  <thead>\n",
       "    <tr style=\"text-align: right;\">\n",
       "      <th>Etnia</th>\n",
       "      <th>Branca</th>\n",
       "      <th>Preta</th>\n",
       "      <th>Amarela</th>\n",
       "      <th>Parda</th>\n",
       "      <th>Indígena</th>\n",
       "      <th>All</th>\n",
       "    </tr>\n",
       "    <tr>\n",
       "      <th>Escolaridade</th>\n",
       "      <th></th>\n",
       "      <th></th>\n",
       "      <th></th>\n",
       "      <th></th>\n",
       "      <th></th>\n",
       "      <th></th>\n",
       "    </tr>\n",
       "  </thead>\n",
       "  <tbody>\n",
       "    <tr>\n",
       "      <th>Regular do Ensino Fundamental</th>\n",
       "      <td>15</td>\n",
       "      <td>60</td>\n",
       "      <td>36</td>\n",
       "      <td>0</td>\n",
       "      <td>146</td>\n",
       "      <td>257</td>\n",
       "    </tr>\n",
       "    <tr>\n",
       "      <th>Regular Ensino Médio</th>\n",
       "      <td>28</td>\n",
       "      <td>325</td>\n",
       "      <td>138</td>\n",
       "      <td>2</td>\n",
       "      <td>651</td>\n",
       "      <td>1144</td>\n",
       "    </tr>\n",
       "    <tr>\n",
       "      <th>Educação de jovens e adultos ou supletivo do ensino fundamental</th>\n",
       "      <td>10</td>\n",
       "      <td>120</td>\n",
       "      <td>50</td>\n",
       "      <td>0</td>\n",
       "      <td>304</td>\n",
       "      <td>484</td>\n",
       "    </tr>\n",
       "    <tr>\n",
       "      <th>Educação de jovens e adultos ou supletivo do ensino médio</th>\n",
       "      <td>8</td>\n",
       "      <td>206</td>\n",
       "      <td>60</td>\n",
       "      <td>1</td>\n",
       "      <td>315</td>\n",
       "      <td>590</td>\n",
       "    </tr>\n",
       "    <tr>\n",
       "      <th>Superior de graduação</th>\n",
       "      <td>29</td>\n",
       "      <td>4802</td>\n",
       "      <td>846</td>\n",
       "      <td>50</td>\n",
       "      <td>3820</td>\n",
       "      <td>9547</td>\n",
       "    </tr>\n",
       "    <tr>\n",
       "      <th>Alfabetização de jovens e adultos</th>\n",
       "      <td>1</td>\n",
       "      <td>30</td>\n",
       "      <td>8</td>\n",
       "      <td>0</td>\n",
       "      <td>54</td>\n",
       "      <td>93</td>\n",
       "    </tr>\n",
       "    <tr>\n",
       "      <th>Creche</th>\n",
       "      <td>0</td>\n",
       "      <td>0</td>\n",
       "      <td>0</td>\n",
       "      <td>0</td>\n",
       "      <td>0</td>\n",
       "      <td>0</td>\n",
       "    </tr>\n",
       "    <tr>\n",
       "      <th>Classe de alfabetização - CA</th>\n",
       "      <td>0</td>\n",
       "      <td>0</td>\n",
       "      <td>0</td>\n",
       "      <td>0</td>\n",
       "      <td>0</td>\n",
       "      <td>0</td>\n",
       "    </tr>\n",
       "    <tr>\n",
       "      <th>Maternal, jardim de infância etc.</th>\n",
       "      <td>0</td>\n",
       "      <td>0</td>\n",
       "      <td>0</td>\n",
       "      <td>0</td>\n",
       "      <td>0</td>\n",
       "      <td>0</td>\n",
       "    </tr>\n",
       "    <tr>\n",
       "      <th>Pré-vestibular</th>\n",
       "      <td>0</td>\n",
       "      <td>19</td>\n",
       "      <td>4</td>\n",
       "      <td>1</td>\n",
       "      <td>20</td>\n",
       "      <td>44</td>\n",
       "    </tr>\n",
       "    <tr>\n",
       "      <th>Mestrado ou doutorado</th>\n",
       "      <td>5</td>\n",
       "      <td>338</td>\n",
       "      <td>49</td>\n",
       "      <td>5</td>\n",
       "      <td>184</td>\n",
       "      <td>581</td>\n",
       "    </tr>\n",
       "    <tr>\n",
       "      <th>All</th>\n",
       "      <td>96</td>\n",
       "      <td>5900</td>\n",
       "      <td>1191</td>\n",
       "      <td>59</td>\n",
       "      <td>5494</td>\n",
       "      <td>12740</td>\n",
       "    </tr>\n",
       "  </tbody>\n",
       "</table>\n",
       "</div>"
      ],
      "text/plain": [
       "Etnia                                               Branca  Preta  Amarela  \\\n",
       "Escolaridade                                                                 \n",
       "Regular do Ensino Fundamental                           15     60       36   \n",
       "Regular Ensino Médio                                    28    325      138   \n",
       "Educação de jovens e adultos ou supletivo do en...      10    120       50   \n",
       "Educação de jovens e adultos ou supletivo do en...       8    206       60   \n",
       "Superior de graduação                                   29   4802      846   \n",
       "Alfabetização de jovens e adultos                        1     30        8   \n",
       "Creche                                                   0      0        0   \n",
       "Classe de alfabetização - CA                             0      0        0   \n",
       "Maternal, jardim de infância etc.                        0      0        0   \n",
       "Pré-vestibular                                           0     19        4   \n",
       "Mestrado ou doutorado                                    5    338       49   \n",
       "All                                                     96   5900     1191   \n",
       "\n",
       "Etnia                                               Parda  Indígena    All  \n",
       "Escolaridade                                                                \n",
       "Regular do Ensino Fundamental                           0       146    257  \n",
       "Regular Ensino Médio                                    2       651   1144  \n",
       "Educação de jovens e adultos ou supletivo do en...      0       304    484  \n",
       "Educação de jovens e adultos ou supletivo do en...      1       315    590  \n",
       "Superior de graduação                                  50      3820   9547  \n",
       "Alfabetização de jovens e adultos                       0        54     93  \n",
       "Creche                                                  0         0      0  \n",
       "Classe de alfabetização - CA                            0         0      0  \n",
       "Maternal, jardim de infância etc.                       0         0      0  \n",
       "Pré-vestibular                                          1        20     44  \n",
       "Mestrado ou doutorado                                   5       184    581  \n",
       "All                                                    59      5494  12740  "
      ]
     },
     "execution_count": 22,
     "metadata": {},
     "output_type": "execute_result"
    }
   ],
   "source": [
    "ct=pd.crosstab(df3.V6003,df3.V0404,margins=True,rownames=['Escolaridade'], colnames=['Etnia'])\n",
    "ct"
   ]
  },
  {
   "cell_type": "markdown",
   "metadata": {},
   "source": [
    "___\n",
    "## Análise e Resultados"
   ]
  },
  {
   "cell_type": "code",
   "execution_count": null,
   "metadata": {
    "collapsed": true
   },
   "outputs": [],
   "source": []
  },
  {
   "cell_type": "code",
   "execution_count": null,
   "metadata": {
    "collapsed": true
   },
   "outputs": [],
   "source": []
  },
  {
   "cell_type": "markdown",
   "metadata": {},
   "source": [
    "___\n",
    "## Conclusão "
   ]
  },
  {
   "cell_type": "markdown",
   "metadata": {
    "collapsed": true
   },
   "source": [
    "Descreva aqui suas conclusões!"
   ]
  },
  {
   "cell_type": "code",
   "execution_count": null,
   "metadata": {
    "collapsed": true
   },
   "outputs": [],
   "source": []
  }
 ],
 "metadata": {
  "anaconda-cloud": {},
  "kernelspec": {
   "display_name": "Python 3",
   "language": "python",
   "name": "python3"
  },
  "language_info": {
   "codemirror_mode": {
    "name": "ipython",
    "version": 3
   },
   "file_extension": ".py",
   "mimetype": "text/x-python",
   "name": "python",
   "nbconvert_exporter": "python",
   "pygments_lexer": "ipython3",
   "version": "3.6.1"
  }
 },
 "nbformat": 4,
 "nbformat_minor": 1
}
